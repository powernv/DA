{
 "cells": [
  {
   "cell_type": "code",
   "execution_count": 1,
   "id": "0f4c7b5d",
   "metadata": {},
   "outputs": [],
   "source": [
    "import os\n",
    "import pandas as pd\n",
    "import datetime\n",
    "import matplotlib.pyplot as plt\n",
    "from sklearn.model_selection import train_test_split\n",
    "from sklearn.linear_model import LinearRegression\n",
    "from sklearn.metrics import mean_absolute_error\n",
    "from sklearn.ensemble import GradientBoostingRegressor\n",
    "from sklearn.tree import DecisionTreeRegressor"
   ]
  },
  {
   "cell_type": "markdown",
   "id": "842a8b55",
   "metadata": {},
   "source": [
    "## Обработаем таблицу"
   ]
  },
  {
   "cell_type": "code",
   "execution_count": 2,
   "id": "7dcfacb4",
   "metadata": {},
   "outputs": [],
   "source": [
    "df = pd.read_csv(os.path.join('EUR_RUB__TOM.csv'), sep = ';')"
   ]
  },
  {
   "cell_type": "code",
   "execution_count": 3,
   "id": "bcd546ce",
   "metadata": {},
   "outputs": [],
   "source": [
    "df.drop(['<TICKER>', '<PER>', '<TIME>', '<VOL>'], axis = 1, inplace = True)"
   ]
  },
  {
   "cell_type": "code",
   "execution_count": 4,
   "id": "a2c679dc",
   "metadata": {},
   "outputs": [],
   "source": [
    "df = df.rename(columns = {'<DATE>':'dDate', '<CLOSE>':'nPr'})"
   ]
  },
  {
   "cell_type": "code",
   "execution_count": 5,
   "id": "dd6db102",
   "metadata": {},
   "outputs": [],
   "source": [
    "df.dDate = pd.to_datetime(df['dDate'], format='%Y%m%d')\n",
    "#df['dDate'] = pd.to_datetime(df['dDate']).dt.date.astype('datetime64[ns]')"
   ]
  },
  {
   "cell_type": "code",
   "execution_count": 6,
   "id": "cc95677c",
   "metadata": {},
   "outputs": [],
   "source": [
    "df = df[:(len(df)-1)]"
   ]
  },
  {
   "cell_type": "code",
   "execution_count": 7,
   "id": "c93e066a",
   "metadata": {},
   "outputs": [],
   "source": [
    "df.set_index(['dDate'], inplace = True)"
   ]
  },
  {
   "cell_type": "code",
   "execution_count": 8,
   "id": "e92d393b",
   "metadata": {},
   "outputs": [
    {
     "data": {
      "image/png": "[encoded data removed]",
      "text/plain": [
       "<Figure size 432x288 with 1 Axes>"
      ]
     },
     "metadata": {
      "needs_background": "light"
     },
     "output_type": "display_data"
    }
   ],
   "source": [
    "plt.plot(df)\n",
    "plt.show()"
   ]
  },
  {
   "cell_type": "code",
   "execution_count": 9,
   "id": "de168d2f",
   "metadata": {},
   "outputs": [
    {
     "data": {
      "text/html": [
       "<div>\n",
       "<style scoped>\n",
       "    .dataframe tbody tr th:only-of-type {\n",
       "        vertical-align: middle;\n",
       "    }\n",
       "\n",
       "    .dataframe tbody tr th {\n",
       "        vertical-align: top;\n",
       "    }\n",
       "\n",
       "    .dataframe thead th {\n",
       "        text-align: right;\n",
       "    }\n",
       "</style>\n",
       "<table border=\"1\" class=\"dataframe\">\n",
       "  <thead>\n",
       "    <tr style=\"text-align: right;\">\n",
       "      <th></th>\n",
       "      <th>nPr</th>\n",
       "    </tr>\n",
       "    <tr>\n",
       "      <th>dDate</th>\n",
       "      <th></th>\n",
       "    </tr>\n",
       "  </thead>\n",
       "  <tbody>\n",
       "    <tr>\n",
       "      <th>2022-09-28</th>\n",
       "      <td>55.475</td>\n",
       "    </tr>\n",
       "    <tr>\n",
       "      <th>2022-09-29</th>\n",
       "      <td>55.470</td>\n",
       "    </tr>\n",
       "    <tr>\n",
       "      <th>2022-09-30</th>\n",
       "      <td>56.700</td>\n",
       "    </tr>\n",
       "    <tr>\n",
       "      <th>2022-10-03</th>\n",
       "      <td>53.600</td>\n",
       "    </tr>\n",
       "    <tr>\n",
       "      <th>2022-10-04</th>\n",
       "      <td>56.400</td>\n",
       "    </tr>\n",
       "  </tbody>\n",
       "</table>\n",
       "</div>"
      ],
      "text/plain": [
       "               nPr\n",
       "dDate             \n",
       "2022-09-28  55.475\n",
       "2022-09-29  55.470\n",
       "2022-09-30  56.700\n",
       "2022-10-03  53.600\n",
       "2022-10-04  56.400"
      ]
     },
     "execution_count": 9,
     "metadata": {},
     "output_type": "execute_result"
    }
   ],
   "source": [
    "df.tail()"
   ]
  },
  {
   "cell_type": "markdown",
   "id": "ece74adb",
   "metadata": {},
   "source": [
    "## Сгенерим фичи"
   ]
  },
  {
   "cell_type": "code",
   "execution_count": 10,
   "id": "8786771e",
   "metadata": {},
   "outputs": [],
   "source": [
    "def add_features(df, max_lag, rolling_mean_size):\n",
    "    df['year'] = df.index.year\n",
    "    df['month'] = df.index.month\n",
    "    df['day'] = df.index.day\n",
    "    df['day_of_week'] = df.index.dayofweek\n",
    "    #df['is_wknd'] = df.index.isin([5,6])*1\n",
    "    \n",
    "    for lag in range(1, max_lag + 1):\n",
    "        df[f'lag_{lag}'] = df['nPr'].shift(lag)\n",
    "\n",
    "    df['y_mean'] = df['nPr'].shift().rolling(rolling_mean_size).mean().copy()"
   ]
  },
  {
   "cell_type": "code",
   "execution_count": 11,
   "id": "63e1dd0e",
   "metadata": {},
   "outputs": [],
   "source": [
    "add_features(df, 40, 3)"
   ]
  },
  {
   "cell_type": "code",
   "execution_count": 12,
   "id": "b14b9a9a",
   "metadata": {},
   "outputs": [],
   "source": [
    "df.dropna(inplace = True)"
   ]
  },
  {
   "cell_type": "code",
   "execution_count": 13,
   "id": "713039ce",
   "metadata": {},
   "outputs": [
    {
     "data": {
      "text/html": [
       "<div>\n",
       "<style scoped>\n",
       "    .dataframe tbody tr th:only-of-type {\n",
       "        vertical-align: middle;\n",
       "    }\n",
       "\n",
       "    .dataframe tbody tr th {\n",
       "        vertical-align: top;\n",
       "    }\n",
       "\n",
       "    .dataframe thead th {\n",
       "        text-align: right;\n",
       "    }\n",
       "</style>\n",
       "<table border=\"1\" class=\"dataframe\">\n",
       "  <thead>\n",
       "    <tr style=\"text-align: right;\">\n",
       "      <th></th>\n",
       "      <th>nPr</th>\n",
       "      <th>year</th>\n",
       "      <th>month</th>\n",
       "      <th>day</th>\n",
       "      <th>day_of_week</th>\n",
       "      <th>lag_1</th>\n",
       "      <th>lag_2</th>\n",
       "      <th>lag_3</th>\n",
       "      <th>lag_4</th>\n",
       "      <th>lag_5</th>\n",
       "      <th>...</th>\n",
       "      <th>lag_32</th>\n",
       "      <th>lag_33</th>\n",
       "      <th>lag_34</th>\n",
       "      <th>lag_35</th>\n",
       "      <th>lag_36</th>\n",
       "      <th>lag_37</th>\n",
       "      <th>lag_38</th>\n",
       "      <th>lag_39</th>\n",
       "      <th>lag_40</th>\n",
       "      <th>y_mean</th>\n",
       "    </tr>\n",
       "    <tr>\n",
       "      <th>dDate</th>\n",
       "      <th></th>\n",
       "      <th></th>\n",
       "      <th></th>\n",
       "      <th></th>\n",
       "      <th></th>\n",
       "      <th></th>\n",
       "      <th></th>\n",
       "      <th></th>\n",
       "      <th></th>\n",
       "      <th></th>\n",
       "      <th></th>\n",
       "      <th></th>\n",
       "      <th></th>\n",
       "      <th></th>\n",
       "      <th></th>\n",
       "      <th></th>\n",
       "      <th></th>\n",
       "      <th></th>\n",
       "      <th></th>\n",
       "      <th></th>\n",
       "      <th></th>\n",
       "    </tr>\n",
       "  </thead>\n",
       "  <tbody>\n",
       "    <tr>\n",
       "      <th>2021-10-27</th>\n",
       "      <td>81.925</td>\n",
       "      <td>2021</td>\n",
       "      <td>10</td>\n",
       "      <td>27</td>\n",
       "      <td>2</td>\n",
       "      <td>80.600</td>\n",
       "      <td>80.9025</td>\n",
       "      <td>81.8700</td>\n",
       "      <td>82.6550</td>\n",
       "      <td>82.5125</td>\n",
       "      <td>...</td>\n",
       "      <td>85.8000</td>\n",
       "      <td>86.4500</td>\n",
       "      <td>86.3000</td>\n",
       "      <td>86.4950</td>\n",
       "      <td>86.7350</td>\n",
       "      <td>86.6600</td>\n",
       "      <td>86.4000</td>\n",
       "      <td>86.5300</td>\n",
       "      <td>86.3000</td>\n",
       "      <td>81.124167</td>\n",
       "    </tr>\n",
       "    <tr>\n",
       "      <th>2021-10-28</th>\n",
       "      <td>82.050</td>\n",
       "      <td>2021</td>\n",
       "      <td>10</td>\n",
       "      <td>28</td>\n",
       "      <td>3</td>\n",
       "      <td>81.925</td>\n",
       "      <td>80.6000</td>\n",
       "      <td>80.9025</td>\n",
       "      <td>81.8700</td>\n",
       "      <td>82.6550</td>\n",
       "      <td>...</td>\n",
       "      <td>86.1050</td>\n",
       "      <td>85.8000</td>\n",
       "      <td>86.4500</td>\n",
       "      <td>86.3000</td>\n",
       "      <td>86.4950</td>\n",
       "      <td>86.7350</td>\n",
       "      <td>86.6600</td>\n",
       "      <td>86.4000</td>\n",
       "      <td>86.5300</td>\n",
       "      <td>81.142500</td>\n",
       "    </tr>\n",
       "    <tr>\n",
       "      <th>2021-10-29</th>\n",
       "      <td>81.920</td>\n",
       "      <td>2021</td>\n",
       "      <td>10</td>\n",
       "      <td>29</td>\n",
       "      <td>4</td>\n",
       "      <td>82.050</td>\n",
       "      <td>81.9250</td>\n",
       "      <td>80.6000</td>\n",
       "      <td>80.9025</td>\n",
       "      <td>81.8700</td>\n",
       "      <td>...</td>\n",
       "      <td>85.3700</td>\n",
       "      <td>86.1050</td>\n",
       "      <td>85.8000</td>\n",
       "      <td>86.4500</td>\n",
       "      <td>86.3000</td>\n",
       "      <td>86.4950</td>\n",
       "      <td>86.7350</td>\n",
       "      <td>86.6600</td>\n",
       "      <td>86.4000</td>\n",
       "      <td>81.525000</td>\n",
       "    </tr>\n",
       "    <tr>\n",
       "      <th>2021-11-01</th>\n",
       "      <td>82.930</td>\n",
       "      <td>2021</td>\n",
       "      <td>11</td>\n",
       "      <td>1</td>\n",
       "      <td>0</td>\n",
       "      <td>81.920</td>\n",
       "      <td>82.0500</td>\n",
       "      <td>81.9250</td>\n",
       "      <td>80.6000</td>\n",
       "      <td>80.9025</td>\n",
       "      <td>...</td>\n",
       "      <td>85.4000</td>\n",
       "      <td>85.3700</td>\n",
       "      <td>86.1050</td>\n",
       "      <td>85.8000</td>\n",
       "      <td>86.4500</td>\n",
       "      <td>86.3000</td>\n",
       "      <td>86.4950</td>\n",
       "      <td>86.7350</td>\n",
       "      <td>86.6600</td>\n",
       "      <td>81.965000</td>\n",
       "    </tr>\n",
       "    <tr>\n",
       "      <th>2021-11-02</th>\n",
       "      <td>82.800</td>\n",
       "      <td>2021</td>\n",
       "      <td>11</td>\n",
       "      <td>2</td>\n",
       "      <td>1</td>\n",
       "      <td>82.930</td>\n",
       "      <td>81.9200</td>\n",
       "      <td>82.0500</td>\n",
       "      <td>81.9250</td>\n",
       "      <td>80.6000</td>\n",
       "      <td>...</td>\n",
       "      <td>85.4100</td>\n",
       "      <td>85.4000</td>\n",
       "      <td>85.3700</td>\n",
       "      <td>86.1050</td>\n",
       "      <td>85.8000</td>\n",
       "      <td>86.4500</td>\n",
       "      <td>86.3000</td>\n",
       "      <td>86.4950</td>\n",
       "      <td>86.7350</td>\n",
       "      <td>82.300000</td>\n",
       "    </tr>\n",
       "    <tr>\n",
       "      <th>...</th>\n",
       "      <td>...</td>\n",
       "      <td>...</td>\n",
       "      <td>...</td>\n",
       "      <td>...</td>\n",
       "      <td>...</td>\n",
       "      <td>...</td>\n",
       "      <td>...</td>\n",
       "      <td>...</td>\n",
       "      <td>...</td>\n",
       "      <td>...</td>\n",
       "      <td>...</td>\n",
       "      <td>...</td>\n",
       "      <td>...</td>\n",
       "      <td>...</td>\n",
       "      <td>...</td>\n",
       "      <td>...</td>\n",
       "      <td>...</td>\n",
       "      <td>...</td>\n",
       "      <td>...</td>\n",
       "      <td>...</td>\n",
       "      <td>...</td>\n",
       "    </tr>\n",
       "    <tr>\n",
       "      <th>2022-09-28</th>\n",
       "      <td>55.475</td>\n",
       "      <td>2022</td>\n",
       "      <td>9</td>\n",
       "      <td>28</td>\n",
       "      <td>2</td>\n",
       "      <td>56.150</td>\n",
       "      <td>56.2400</td>\n",
       "      <td>56.3000</td>\n",
       "      <td>57.6175</td>\n",
       "      <td>60.1500</td>\n",
       "      <td>...</td>\n",
       "      <td>62.3500</td>\n",
       "      <td>62.3100</td>\n",
       "      <td>62.6125</td>\n",
       "      <td>62.7525</td>\n",
       "      <td>61.6425</td>\n",
       "      <td>62.2000</td>\n",
       "      <td>61.5400</td>\n",
       "      <td>61.5000</td>\n",
       "      <td>60.9800</td>\n",
       "      <td>56.230000</td>\n",
       "    </tr>\n",
       "    <tr>\n",
       "      <th>2022-09-29</th>\n",
       "      <td>55.470</td>\n",
       "      <td>2022</td>\n",
       "      <td>9</td>\n",
       "      <td>29</td>\n",
       "      <td>3</td>\n",
       "      <td>55.475</td>\n",
       "      <td>56.1500</td>\n",
       "      <td>56.2400</td>\n",
       "      <td>56.3000</td>\n",
       "      <td>57.6175</td>\n",
       "      <td>...</td>\n",
       "      <td>62.1175</td>\n",
       "      <td>62.3500</td>\n",
       "      <td>62.3100</td>\n",
       "      <td>62.6125</td>\n",
       "      <td>62.7525</td>\n",
       "      <td>61.6425</td>\n",
       "      <td>62.2000</td>\n",
       "      <td>61.5400</td>\n",
       "      <td>61.5000</td>\n",
       "      <td>55.955000</td>\n",
       "    </tr>\n",
       "    <tr>\n",
       "      <th>2022-09-30</th>\n",
       "      <td>56.700</td>\n",
       "      <td>2022</td>\n",
       "      <td>9</td>\n",
       "      <td>30</td>\n",
       "      <td>4</td>\n",
       "      <td>55.470</td>\n",
       "      <td>55.4750</td>\n",
       "      <td>56.1500</td>\n",
       "      <td>56.2400</td>\n",
       "      <td>56.3000</td>\n",
       "      <td>...</td>\n",
       "      <td>61.6650</td>\n",
       "      <td>62.1175</td>\n",
       "      <td>62.3500</td>\n",
       "      <td>62.3100</td>\n",
       "      <td>62.6125</td>\n",
       "      <td>62.7525</td>\n",
       "      <td>61.6425</td>\n",
       "      <td>62.2000</td>\n",
       "      <td>61.5400</td>\n",
       "      <td>55.698333</td>\n",
       "    </tr>\n",
       "    <tr>\n",
       "      <th>2022-10-03</th>\n",
       "      <td>53.600</td>\n",
       "      <td>2022</td>\n",
       "      <td>10</td>\n",
       "      <td>3</td>\n",
       "      <td>0</td>\n",
       "      <td>56.700</td>\n",
       "      <td>55.4700</td>\n",
       "      <td>55.4750</td>\n",
       "      <td>56.1500</td>\n",
       "      <td>56.2400</td>\n",
       "      <td>...</td>\n",
       "      <td>60.1800</td>\n",
       "      <td>61.6650</td>\n",
       "      <td>62.1175</td>\n",
       "      <td>62.3500</td>\n",
       "      <td>62.3100</td>\n",
       "      <td>62.6125</td>\n",
       "      <td>62.7525</td>\n",
       "      <td>61.6425</td>\n",
       "      <td>62.2000</td>\n",
       "      <td>55.881667</td>\n",
       "    </tr>\n",
       "    <tr>\n",
       "      <th>2022-10-04</th>\n",
       "      <td>56.400</td>\n",
       "      <td>2022</td>\n",
       "      <td>10</td>\n",
       "      <td>4</td>\n",
       "      <td>1</td>\n",
       "      <td>53.600</td>\n",
       "      <td>56.7000</td>\n",
       "      <td>55.4700</td>\n",
       "      <td>55.4750</td>\n",
       "      <td>56.1500</td>\n",
       "      <td>...</td>\n",
       "      <td>59.6025</td>\n",
       "      <td>60.1800</td>\n",
       "      <td>61.6650</td>\n",
       "      <td>62.1175</td>\n",
       "      <td>62.3500</td>\n",
       "      <td>62.3100</td>\n",
       "      <td>62.6125</td>\n",
       "      <td>62.7525</td>\n",
       "      <td>61.6425</td>\n",
       "      <td>55.256667</td>\n",
       "    </tr>\n",
       "  </tbody>\n",
       "</table>\n",
       "<p>236 rows × 46 columns</p>\n",
       "</div>"
      ],
      "text/plain": [
       "               nPr  year  month  day  day_of_week   lag_1    lag_2    lag_3  \\\n",
       "dDate                                                                         \n",
       "2021-10-27  81.925  2021     10   27            2  80.600  80.9025  81.8700   \n",
       "2021-10-28  82.050  2021     10   28            3  81.925  80.6000  80.9025   \n",
       "2021-10-29  81.920  2021     10   29            4  82.050  81.9250  80.6000   \n",
       "2021-11-01  82.930  2021     11    1            0  81.920  82.0500  81.9250   \n",
       "2021-11-02  82.800  2021     11    2            1  82.930  81.9200  82.0500   \n",
       "...            ...   ...    ...  ...          ...     ...      ...      ...   \n",
       "2022-09-28  55.475  2022      9   28            2  56.150  56.2400  56.3000   \n",
       "2022-09-29  55.470  2022      9   29            3  55.475  56.1500  56.2400   \n",
       "2022-09-30  56.700  2022      9   30            4  55.470  55.4750  56.1500   \n",
       "2022-10-03  53.600  2022     10    3            0  56.700  55.4700  55.4750   \n",
       "2022-10-04  56.400  2022     10    4            1  53.600  56.7000  55.4700   \n",
       "\n",
       "              lag_4    lag_5  ...   lag_32   lag_33   lag_34   lag_35  \\\n",
       "dDate                         ...                                       \n",
       "2021-10-27  82.6550  82.5125  ...  85.8000  86.4500  86.3000  86.4950   \n",
       "2021-10-28  81.8700  82.6550  ...  86.1050  85.8000  86.4500  86.3000   \n",
       "2021-10-29  80.9025  81.8700  ...  85.3700  86.1050  85.8000  86.4500   \n",
       "2021-11-01  80.6000  80.9025  ...  85.4000  85.3700  86.1050  85.8000   \n",
       "2021-11-02  81.9250  80.6000  ...  85.4100  85.4000  85.3700  86.1050   \n",
       "...             ...      ...  ...      ...      ...      ...      ...   \n",
       "2022-09-28  57.6175  60.1500  ...  62.3500  62.3100  62.6125  62.7525   \n",
       "2022-09-29  56.3000  57.6175  ...  62.1175  62.3500  62.3100  62.6125   \n",
       "2022-09-30  56.2400  56.3000  ...  61.6650  62.1175  62.3500  62.3100   \n",
       "2022-10-03  56.1500  56.2400  ...  60.1800  61.6650  62.1175  62.3500   \n",
       "2022-10-04  55.4750  56.1500  ...  59.6025  60.1800  61.6650  62.1175   \n",
       "\n",
       "             lag_36   lag_37   lag_38   lag_39   lag_40     y_mean  \n",
       "dDate                                                               \n",
       "2021-10-27  86.7350  86.6600  86.4000  86.5300  86.3000  81.124167  \n",
       "2021-10-28  86.4950  86.7350  86.6600  86.4000  86.5300  81.142500  \n",
       "2021-10-29  86.3000  86.4950  86.7350  86.6600  86.4000  81.525000  \n",
       "2021-11-01  86.4500  86.3000  86.4950  86.7350  86.6600  81.965000  \n",
       "2021-11-02  85.8000  86.4500  86.3000  86.4950  86.7350  82.300000  \n",
       "...             ...      ...      ...      ...      ...        ...  \n",
       "2022-09-28  61.6425  62.2000  61.5400  61.5000  60.9800  56.230000  \n",
       "2022-09-29  62.7525  61.6425  62.2000  61.5400  61.5000  55.955000  \n",
       "2022-09-30  62.6125  62.7525  61.6425  62.2000  61.5400  55.698333  \n",
       "2022-10-03  62.3100  62.6125  62.7525  61.6425  62.2000  55.881667  \n",
       "2022-10-04  62.3500  62.3100  62.6125  62.7525  61.6425  55.256667  \n",
       "\n",
       "[236 rows x 46 columns]"
      ]
     },
     "execution_count": 13,
     "metadata": {},
     "output_type": "execute_result"
    }
   ],
   "source": [
    "df"
   ]
  },
  {
   "cell_type": "markdown",
   "id": "3fe26218",
   "metadata": {},
   "source": [
    "## Обучим модель"
   ]
  },
  {
   "cell_type": "code",
   "execution_count": 14,
   "id": "b5aa4497",
   "metadata": {},
   "outputs": [],
   "source": [
    "X_train,X_test, y_train, y_test = train_test_split(df.drop('nPr', axis = 1), df.nPr, \n",
    "                                                   shuffle = False, test_size = 0.2, random_state = 35)"
   ]
  },
  {
   "cell_type": "code",
   "execution_count": 15,
   "id": "93cf2781",
   "metadata": {},
   "outputs": [
    {
     "data": {
      "text/plain": [
       "array([61.26249668, 63.40312168, 61.23905918, 61.87187168, 61.15702793,\n",
       "       61.78984043, 59.67265293, 62.56327793, 62.22343418, 64.77030918,\n",
       "       64.02421543, 61.51249668, 61.46952793, 59.11796543, 61.78593418,\n",
       "       59.07890293, 60.93827793, 58.23515293, 59.28593418, 58.48124668,\n",
       "       59.60624668, 60.37577793, 60.28593418, 60.48124668, 60.85234043,\n",
       "       59.95780918, 60.11796543, 59.62187168, 60.06718418, 59.88359043,\n",
       "       59.96171543, 60.68827793, 60.00077793, 60.20390293, 59.45780918,\n",
       "       59.44609043, 59.12187168, 59.54374668, 60.41874668, 59.44999668,\n",
       "       56.97343418, 54.87968418, 55.59062168, 54.66093418, 55.11015293,\n",
       "       55.57499668, 56.09452793, 52.16093418])"
      ]
     },
     "execution_count": 15,
     "metadata": {},
     "output_type": "execute_result"
    }
   ],
   "source": [
    "lr = LinearRegression()\n",
    "lr.fit(X_train, y_train)\n",
    "lr.predict(X_test)"
   ]
  },
  {
   "cell_type": "code",
   "execution_count": 16,
   "id": "28af8113",
   "metadata": {},
   "outputs": [
    {
     "name": "stdout",
     "output_type": "stream",
     "text": [
      "Ошибка на тестовой выборке: 1.21\n",
      "Ошибка на тренировочной выборке: 0.95\n"
     ]
    }
   ],
   "source": [
    "print(f'Ошибка на тестовой выборке: {round(mean_absolute_error(y_train, lr.predict(X_train)),2)}')\n",
    "print(f'Ошибка на тренировочной выборке: {round(mean_absolute_error(y_test, lr.predict(X_test)),2)}')"
   ]
  },
  {
   "cell_type": "markdown",
   "id": "8f7a1f99",
   "metadata": {},
   "source": [
    "## Спрогнозируем курс евро на 5 октября"
   ]
  },
  {
   "cell_type": "code",
   "execution_count": 17,
   "id": "22d89a4f",
   "metadata": {},
   "outputs": [],
   "source": [
    "predict = df.nPr.reset_index().copy()"
   ]
  },
  {
   "cell_type": "code",
   "execution_count": 18,
   "id": "38aaf21f",
   "metadata": {},
   "outputs": [
    {
     "data": {
      "text/html": [
       "<div>\n",
       "<style scoped>\n",
       "    .dataframe tbody tr th:only-of-type {\n",
       "        vertical-align: middle;\n",
       "    }\n",
       "\n",
       "    .dataframe tbody tr th {\n",
       "        vertical-align: top;\n",
       "    }\n",
       "\n",
       "    .dataframe thead th {\n",
       "        text-align: right;\n",
       "    }\n",
       "</style>\n",
       "<table border=\"1\" class=\"dataframe\">\n",
       "  <thead>\n",
       "    <tr style=\"text-align: right;\">\n",
       "      <th></th>\n",
       "      <th>dDate</th>\n",
       "      <th>nPr</th>\n",
       "    </tr>\n",
       "  </thead>\n",
       "  <tbody>\n",
       "    <tr>\n",
       "      <th>0</th>\n",
       "      <td>2021-10-27</td>\n",
       "      <td>81.925</td>\n",
       "    </tr>\n",
       "    <tr>\n",
       "      <th>1</th>\n",
       "      <td>2021-10-28</td>\n",
       "      <td>82.050</td>\n",
       "    </tr>\n",
       "    <tr>\n",
       "      <th>2</th>\n",
       "      <td>2021-10-29</td>\n",
       "      <td>81.920</td>\n",
       "    </tr>\n",
       "    <tr>\n",
       "      <th>3</th>\n",
       "      <td>2021-11-01</td>\n",
       "      <td>82.930</td>\n",
       "    </tr>\n",
       "    <tr>\n",
       "      <th>4</th>\n",
       "      <td>2021-11-02</td>\n",
       "      <td>82.800</td>\n",
       "    </tr>\n",
       "    <tr>\n",
       "      <th>...</th>\n",
       "      <td>...</td>\n",
       "      <td>...</td>\n",
       "    </tr>\n",
       "    <tr>\n",
       "      <th>231</th>\n",
       "      <td>2022-09-28</td>\n",
       "      <td>55.475</td>\n",
       "    </tr>\n",
       "    <tr>\n",
       "      <th>232</th>\n",
       "      <td>2022-09-29</td>\n",
       "      <td>55.470</td>\n",
       "    </tr>\n",
       "    <tr>\n",
       "      <th>233</th>\n",
       "      <td>2022-09-30</td>\n",
       "      <td>56.700</td>\n",
       "    </tr>\n",
       "    <tr>\n",
       "      <th>234</th>\n",
       "      <td>2022-10-03</td>\n",
       "      <td>53.600</td>\n",
       "    </tr>\n",
       "    <tr>\n",
       "      <th>235</th>\n",
       "      <td>2022-10-04</td>\n",
       "      <td>56.400</td>\n",
       "    </tr>\n",
       "  </tbody>\n",
       "</table>\n",
       "<p>236 rows × 2 columns</p>\n",
       "</div>"
      ],
      "text/plain": [
       "         dDate     nPr\n",
       "0   2021-10-27  81.925\n",
       "1   2021-10-28  82.050\n",
       "2   2021-10-29  81.920\n",
       "3   2021-11-01  82.930\n",
       "4   2021-11-02  82.800\n",
       "..         ...     ...\n",
       "231 2022-09-28  55.475\n",
       "232 2022-09-29  55.470\n",
       "233 2022-09-30  56.700\n",
       "234 2022-10-03  53.600\n",
       "235 2022-10-04  56.400\n",
       "\n",
       "[236 rows x 2 columns]"
      ]
     },
     "execution_count": 18,
     "metadata": {},
     "output_type": "execute_result"
    }
   ],
   "source": [
    "predict"
   ]
  },
  {
   "cell_type": "code",
   "execution_count": 19,
   "id": "93e8cb1f",
   "metadata": {},
   "outputs": [],
   "source": [
    "predict.loc[236] = ''"
   ]
  },
  {
   "cell_type": "code",
   "execution_count": 20,
   "id": "fd66cf2d",
   "metadata": {},
   "outputs": [],
   "source": [
    "predict.loc[236].dDate = pd.to_datetime('2022-10-05')\n",
    "predict.loc[236].nPr = 0"
   ]
  },
  {
   "cell_type": "code",
   "execution_count": 21,
   "id": "b20e6a0d",
   "metadata": {},
   "outputs": [],
   "source": [
    "predict.dDate = pd.to_datetime(predict.dDate)"
   ]
  },
  {
   "cell_type": "code",
   "execution_count": 22,
   "id": "40a26aa6",
   "metadata": {},
   "outputs": [],
   "source": [
    "predict.set_index('dDate', inplace = True)"
   ]
  },
  {
   "cell_type": "code",
   "execution_count": 23,
   "id": "c0db25c6",
   "metadata": {},
   "outputs": [
    {
     "data": {
      "text/html": [
       "<div>\n",
       "<style scoped>\n",
       "    .dataframe tbody tr th:only-of-type {\n",
       "        vertical-align: middle;\n",
       "    }\n",
       "\n",
       "    .dataframe tbody tr th {\n",
       "        vertical-align: top;\n",
       "    }\n",
       "\n",
       "    .dataframe thead th {\n",
       "        text-align: right;\n",
       "    }\n",
       "</style>\n",
       "<table border=\"1\" class=\"dataframe\">\n",
       "  <thead>\n",
       "    <tr style=\"text-align: right;\">\n",
       "      <th></th>\n",
       "      <th>nPr</th>\n",
       "    </tr>\n",
       "    <tr>\n",
       "      <th>dDate</th>\n",
       "      <th></th>\n",
       "    </tr>\n",
       "  </thead>\n",
       "  <tbody>\n",
       "    <tr>\n",
       "      <th>2022-09-29</th>\n",
       "      <td>55.47</td>\n",
       "    </tr>\n",
       "    <tr>\n",
       "      <th>2022-09-30</th>\n",
       "      <td>56.7</td>\n",
       "    </tr>\n",
       "    <tr>\n",
       "      <th>2022-10-03</th>\n",
       "      <td>53.6</td>\n",
       "    </tr>\n",
       "    <tr>\n",
       "      <th>2022-10-04</th>\n",
       "      <td>56.4</td>\n",
       "    </tr>\n",
       "    <tr>\n",
       "      <th>2022-10-05</th>\n",
       "      <td>0</td>\n",
       "    </tr>\n",
       "  </tbody>\n",
       "</table>\n",
       "</div>"
      ],
      "text/plain": [
       "              nPr\n",
       "dDate            \n",
       "2022-09-29  55.47\n",
       "2022-09-30   56.7\n",
       "2022-10-03   53.6\n",
       "2022-10-04   56.4\n",
       "2022-10-05      0"
      ]
     },
     "execution_count": 23,
     "metadata": {},
     "output_type": "execute_result"
    }
   ],
   "source": [
    "predict.tail()"
   ]
  },
  {
   "cell_type": "code",
   "execution_count": 24,
   "id": "b4026216",
   "metadata": {},
   "outputs": [],
   "source": [
    "add_features(predict, 40, 3)"
   ]
  },
  {
   "cell_type": "code",
   "execution_count": 25,
   "id": "8fef1041",
   "metadata": {},
   "outputs": [],
   "source": [
    "a = predict.drop('nPr', axis = 1).tail(1).copy()"
   ]
  },
  {
   "cell_type": "code",
   "execution_count": 26,
   "id": "cba5695a",
   "metadata": {},
   "outputs": [
    {
     "name": "stdout",
     "output_type": "stream",
     "text": [
      "Предсказанный курс евро на 5 октября -  56.6531\n"
     ]
    }
   ],
   "source": [
    "print('Предсказанный курс евро на 5 октября - ', round(lr.predict(a)[0], 4))"
   ]
  },
  {
   "cell_type": "code",
   "execution_count": null,
   "id": "8cd6c352",
   "metadata": {},
   "outputs": [],
   "source": []
  },
  {
   "cell_type": "code",
   "execution_count": 27,
   "id": "fbb7e33c",
   "metadata": {},
   "outputs": [
    {
     "name": "stdout",
     "output_type": "stream",
     "text": [
      "Предсказанный курс евро на 5 октября -  54.9225\n"
     ]
    }
   ],
   "source": [
    "gb = GradientBoostingRegressor()\n",
    "gb.fit(df.drop('nPr',axis=1),df.nPr)\n",
    "print('Предсказанный курс евро на 5 октября - ', round(gb.predict(a)[0],4))"
   ]
  },
  {
   "cell_type": "code",
   "execution_count": null,
   "id": "c08735c3",
   "metadata": {},
   "outputs": [],
   "source": []
  }
 ],
 "metadata": {
  "kernelspec": {
   "display_name": "Python 3 (ipykernel)",
   "language": "python",
   "name": "python3"
  },
  "language_info": {
   "codemirror_mode": {
    "name": "ipython",
    "version": 3
   },
   "file_extension": ".py",
   "mimetype": "text/x-python",
   "name": "python",
   "nbconvert_exporter": "python",
   "pygments_lexer": "ipython3",
   "version": "3.9.7"
  }
 },
 "nbformat": 4,
 "nbformat_minor": 5
}
